{
 "cells": [
  {
   "cell_type": "code",
   "execution_count": 4,
   "metadata": {},
   "outputs": [],
   "source": [
    "# -*- coding: utf-8 -*-\n",
    "\n",
    "# author: Danielle Dolan-Sanchez\n",
    "\n",
    "#   This code was written to clean Twitter data and run a simple dictionary based affect analysis as part of my Capstone Project at UA iSchool. The \n",
    "#   MMIWG lexicon used in this analysis was created by myself, PhD student Jennifer Byram, and Dr. Lindsay Montgomery of the School of Anthropology.\n",
    "# \n",
    "# The code is derived from and inspired by several sources on cleaning Tweets and doing affect analysis. \n",
    "# Here are some links for sources and inspiration: \n",
    "# https://machinelearningmastery.com/clean-text-machine-learning-python/\n",
    "# https://www.geeksforgeeks.org/python-count-occurrences-of-each-word-in-given-text-file-using-dictionary/\n",
    "# https://www.youtube.com/watch?v=dyN_WtjdfpA&list=PLhTjy8cBISEoOtB5_nwykvB9wfEDscuEo&index=1\n",
    "# https://pythonexamples.org/python-count-occurrences-of-word-in-text-file/\n",
    "# https://github.com/darlastill/ResBaz-UA-Python-Twitter\n",
    "# https://github.com/DocNow/twarc\n",
    "# https://github.com/nealcaren/osscabd_2018\n",
    "# http://www.nltk.org/book/\n",
    "# https://methodi.ca/recipes/dictionary-based-sentiment-analysis-python"
   ]
  },
  {
   "cell_type": "code",
   "execution_count": 5,
   "metadata": {},
   "outputs": [],
   "source": [
    "# import necessary libraries\n",
    "import pandas as pd\n",
    "import numpy as np\n",
    "import matplotlib.pyplot as plt"
   ]
  },
  {
   "cell_type": "code",
   "execution_count": null,
   "metadata": {},
   "outputs": [],
   "source": [
    "# load affect lexicon file\n",
    "affect_lexicon_df = pd.read_csv('filepath/affectLexicon.csv')"
   ]
  },
  {
   "cell_type": "code",
   "execution_count": null,
   "metadata": {},
   "outputs": [],
   "source": [
    "# print a sample of words to check that it's reading csv correctly\n",
    "affect_lexicon_df.sample(10)"
   ]
  },
  {
   "cell_type": "code",
   "execution_count": null,
   "metadata": {},
   "outputs": [],
   "source": [
    "# define which column to use for affect words list, change depending on which affect you want to count\n",
    "affect_words_list = affect_lexicon_df['Trust'].values"
   ]
  },
  {
   "cell_type": "code",
   "execution_count": null,
   "metadata": {},
   "outputs": [],
   "source": [
    "# load tweets text file\n",
    "text = open(\"filepath/tweets.txt\", encoding=\"utf-8\").read()"
   ]
  },
  {
   "cell_type": "code",
   "execution_count": null,
   "metadata": {},
   "outputs": [],
   "source": [
    "# remove punctuation and make lowercase \n",
    "def text_to_words(text):\n",
    "    '''Transform a string to a list of words,\n",
    "    removing all punctuation.'''\n",
    "    text = text.lower()\n",
    "\n",
    "    p = '!\"#$%&\\'()*+,-./:;<=>?@[\\\\]^_`{|}~'\n",
    "    text = ''.join([ch for ch in text if ch not in p])\n",
    "\n",
    "    return text.split()"
   ]
  },
  {
   "cell_type": "code",
   "execution_count": null,
   "metadata": {},
   "outputs": [],
   "source": [
    "# return list of tokenized words from tweets text file\n",
    "text_to_words(text)"
   ]
  },
  {
   "cell_type": "code",
   "execution_count": null,
   "metadata": {},
   "outputs": [],
   "source": [
    "# count occurences of word from lexicon within text file\n",
    "count_occurences(text, affect_words_list)"
   ]
  },
  {
   "cell_type": "code",
   "execution_count": null,
   "metadata": {},
   "outputs": [],
   "source": [
    "# create a bar graph to visualize data\n",
    "# creating the dataset by adding number of occurences after keys\n",
    "data = {'Anger':926, 'Anticipation/Expectation':763, 'Disgust':569,  \n",
    "        'Fear':2012, 'Joy':944, 'Sadness':1819, 'Surprise':592, 'Trust':437} \n",
    "affects = list(data.keys()) \n",
    "values = list(data.values()) \n",
    "\n",
    "# creating the bar plot with custom adjustments for color and x-axis ticks\n",
    "fig, ax1 = plt.subplots()\n",
    "ax1.bar(affects, values, color ='coral',  \n",
    "        width = 0.4)\n",
    "fig.autofmt_xdate()\n",
    "plt.savefig('dec2018.png')\n",
    "\n",
    "plt.xlabel(\"Affects\") \n",
    "plt.ylabel(\"No. of occurences\") \n",
    "plt.title(\"Affects in December 2018 Tweets\")\n",
    "\n",
    "# showing the graph, save a copy\n",
    "plt.show()"
   ]
  }
 ],
 "metadata": {
  "kernelspec": {
   "display_name": "Python 3",
   "language": "python",
   "name": "python3"
  },
  "language_info": {
   "codemirror_mode": {
    "name": "ipython",
    "version": 3
   },
   "file_extension": ".py",
   "mimetype": "text/x-python",
   "name": "python",
   "nbconvert_exporter": "python",
   "pygments_lexer": "ipython3",
   "version": "3.8.3"
  }
 },
 "nbformat": 4,
 "nbformat_minor": 4
}
